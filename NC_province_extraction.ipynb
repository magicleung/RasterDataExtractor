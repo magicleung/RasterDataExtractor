{
 "cells": [
  {
   "cell_type": "code",
   "execution_count": null,
   "metadata": {
    "vscode": {
     "languageId": "plaintext"
    }
   },
   "outputs": [],
   "source": [
    "import glob\n",
    "import numpy as np\n",
    "import pandas as pd\n",
    "import xarray as xr\n",
    "import geopandas as gpd\n",
    "\n",
    "def extract_province_data(cmaq_data, province_name, provinces):\n",
    "    province_of_interest = provinces[provinces['pr_name'] == province_name]\n",
    "    gdf = province_of_interest.geometry.iloc[0]\n",
    "\n",
    "    latitudes = cmaq_data.coords['LAT'].values\n",
    "    longitudes = cmaq_data.coords['LON'].values\n",
    "    mask = np.zeros(latitudes.shape, dtype=bool)\n",
    "\n",
    "    for i in range(latitudes.shape[0]):\n",
    "        for j in range(latitudes.shape[1]):\n",
    "            point = gpd.points_from_xy([longitudes[i, j]], [latitudes[i, j]])\n",
    "            if point.within(gdf).any():\n",
    "                mask[i, j] = True\n",
    "\n",
    "    mask_da = xr.DataArray(mask, coords=cmaq_data['LAT'].coords, dims=cmaq_data['LAT'].dims)\n",
    "    extracted_data = cmaq_data.where(mask_da, drop=True)\n",
    "\n",
    "    return extracted_data\n",
    "\n",
    "# Load shapefile for provinces\n",
    "provinces = gpd.read_file('....../dataset/shapefile/Province/province.shp')\n",
    "\n",
    "# Extract grid data\n",
    "simu_grid = xr.open_dataset('....../cmaq533-o3_2023-2019Marine/data/mcip/2021/202106/2021060112/27km/GRIDCRO2D_27km.20210603.nc')\n",
    "latitudes = simu_grid.LAT[0, 0, :, :]\n",
    "longitudes = simu_grid.LON[0, 0, :, :]\n",
    "\n",
    "# Open multiple NetCDF files\n",
    "file_pattern = glob.glob('....../CMAQ-DATA/cmaq-D1-WRF41-202106-KZMIN-N/COMBINE_ACONC_27km_202106*.nc')\n",
    "nc_pol = xr.open_mfdataset(file_pattern, parallel=True, concat_dim='TSTEP', combine='nested')\n",
    "date_range = get_datetime(nc_pol['TFLAG'])\n",
    "cmaq_data = nc_pol.assign_coords({'LAT': latitudes, 'LON': longitudes, 'TIME': date_range})\n",
    "\n",
    "# List of provinces\n",
    "provinces_list = ['广东省', '广西壮族自治区', '湖南省', '福建省', '湖北省', '浙江省', '江西省', '江苏省', '贵州省']\n",
    "province_sim = {'NO2': pd.DataFrame(), 'O3': pd.DataFrame(), 'PM25': pd.DataFrame()}\n",
    "\n",
    "# Process each province\n",
    "for province in provinces_list: \n",
    "    print(f\"Processing simulation data for {province}...\")\n",
    "    extracted_data = extract_province_data(cmaq_data, province, provinces)\n",
    "\n",
    "    cmaq_province = extracted_data.isel(LAY=slice(0, 1)).mean(dim='LAY').mean(dim=['ROW', 'COL'])\n",
    "    province_sim['NO2'][province] = cmaq_province.NO2.values\n",
    "    province_sim['O3'][province] = cmaq_province.O3.values\n",
    "    province_sim['PM25'][province] = cmaq_province.PM25_TOT.values\n",
    "\n",
    "    for pollutant in province_sim.keys():\n",
    "        province_sim[pollutant].index = pd.Index(date_range, name='Time').tz_localize('UTC').tz_convert('Asia/Shanghai').tz_localize(None)\n",
    "\n",
    "print(\"Simulation data processed successfully.\")"
   ]
  }
 ],
 "metadata": {
  "language_info": {
   "name": "python"
  }
 },
 "nbformat": 4,
 "nbformat_minor": 2
}
